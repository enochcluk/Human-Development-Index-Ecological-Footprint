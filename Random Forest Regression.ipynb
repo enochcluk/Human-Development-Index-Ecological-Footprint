{
 "cells": [
  {
   "cell_type": "code",
   "execution_count": 11,
   "metadata": {},
   "outputs": [
    {
     "name": "stdout",
     "output_type": "stream",
     "text": [
      "Mean error:\n",
      "0.04663170829268287\n"
     ]
    },
    {
     "data": {
      "image/png": "[encoded data removed]",
      "text/plain": [
       "<Figure size 432x288 with 1 Axes>"
      ]
     },
     "metadata": {
      "needs_background": "light"
     },
     "output_type": "display_data"
    },
    {
     "name": "stdout",
     "output_type": "stream",
     "text": [
      "                               Country                    Region  \\\n",
      "0                          Afghanistan  Middle East/Central Asia   \n",
      "1                              Albania   Northern/Eastern Europe   \n",
      "2                              Algeria                    Africa   \n",
      "3                               Angola                    Africa   \n",
      "5                            Argentina             Latin America   \n",
      "..                                 ...                       ...   \n",
      "182  Venezuela, Bolivarian Republic of             Latin America   \n",
      "183                           Viet Nam              Asia-Pacific   \n",
      "185                              Yemen  Middle East/Central Asia   \n",
      "186                             Zambia                    Africa   \n",
      "187                           Zimbabwe                    Africa   \n",
      "\n",
      "     Population (millions)       HDI GDP per Capita  Cropland Footprint  \\\n",
      "0                    29.82  0.460000        $614.66                0.30   \n",
      "1                     3.16  0.730000      $4,534.37                0.78   \n",
      "2                    38.48  0.730000      $5,430.57                0.60   \n",
      "3                    20.82  0.520000      $4,665.91                0.33   \n",
      "5                    41.09  0.830000     $13,540.00                0.78   \n",
      "..                     ...       ...            ...                 ...   \n",
      "182                  29.96  0.763846     $10,237.80                0.45   \n",
      "183                  90.80  0.660000      $1,532.31                0.50   \n",
      "185                  23.85  0.500000      $1,302.30                0.34   \n",
      "186                  14.08  0.580000      $1,740.64                0.19   \n",
      "187                  13.72  0.490000        $865.91                0.20   \n",
      "\n",
      "     Grazing Footprint  Forest Footprint  Carbon Footprint  Fish Footprint  \\\n",
      "0                 0.20              0.08              0.18            0.00   \n",
      "1                 0.22              0.25              0.87            0.02   \n",
      "2                 0.16              0.17              1.14            0.01   \n",
      "3                 0.15              0.12              0.20            0.09   \n",
      "5                 0.79              0.29              1.08            0.10   \n",
      "..                 ...               ...               ...             ...   \n",
      "182               0.74              0.12              2.13            0.09   \n",
      "183               0.01              0.19              0.79            0.05   \n",
      "185               0.14              0.04              0.42            0.04   \n",
      "186               0.18              0.33              0.24            0.01   \n",
      "187               0.32              0.29              0.53            0.01   \n",
      "\n",
      "     ...  Grazing Land  Forest Land  Fishing Water  Urban Land  \\\n",
      "0    ...          0.20         0.02           0.00        0.04   \n",
      "1    ...          0.21         0.29           0.07        0.06   \n",
      "2    ...          0.27         0.03           0.01        0.03   \n",
      "3    ...          1.42         0.64           0.26        0.04   \n",
      "5    ...          1.86         0.66           1.67        0.10   \n",
      "..   ...           ...          ...            ...         ...   \n",
      "182  ...          0.57         1.79           0.24        0.04   \n",
      "183  ...          0.01         0.17           0.16        0.10   \n",
      "185  ...          0.12         0.04           0.20        0.04   \n",
      "186  ...          0.94         0.99           0.02        0.04   \n",
      "187  ...          0.32         0.12           0.01        0.02   \n",
      "\n",
      "     Total Biocapacity  Biocapacity Deficit or Reserve  Earths Required  \\\n",
      "0                 0.50                           -0.30             0.46   \n",
      "1                 1.18                           -1.03             1.27   \n",
      "2                 0.59                           -1.53             1.22   \n",
      "3                 2.55                            1.61             0.54   \n",
      "5                 6.92                            3.78             1.82   \n",
      "..                 ...                             ...              ...   \n",
      "182               2.78                           -0.79             2.06   \n",
      "183               1.00                           -0.65             0.95   \n",
      "185               0.50                           -0.53             0.59   \n",
      "186               2.23                            1.24             0.57   \n",
      "187               0.62                           -0.75             0.79   \n",
      "\n",
      "     Countries Required  Data Quality       GDP  \n",
      "0                  1.60             6    614.66  \n",
      "1                  1.87             6   4534.37  \n",
      "2                  3.61             5   5430.57  \n",
      "3                  0.37             6   4665.91  \n",
      "5                  0.45             6  13540.00  \n",
      "..                  ...           ...       ...  \n",
      "182                1.28             5  10237.80  \n",
      "183                1.66             6   1532.31  \n",
      "185                2.06             5   1302.30  \n",
      "186                0.44             6   1740.64  \n",
      "187                2.20             6    865.91  \n",
      "\n",
      "[162 rows x 22 columns]\n"
     ]
    }
   ],
   "source": [
    "import pandas as pd\n",
    "import matplotlib.pyplot as plt\n",
    "import seaborn as sns\n",
    "import numpy as np\n",
    "from sklearn.metrics import mean_absolute_error\n",
    "from sklearn.ensemble import RandomForestRegressor\n",
    "from sklearn.model_selection import train_test_split\n",
    "\n",
    "footprints = pd.read_csv (r'C:/Users/enoch/Desktop/Earth/904.csv')\n",
    "lisst=[]\n",
    "for gdp in footprints['GDP per Capita']:\n",
    "    zdp=str(gdp).replace(\",\",\"\")\n",
    "    gdp=str(zdp).replace(\"$\",\"\")\n",
    "    lisst.append(float(gdp))\n",
    "gdpnum = pd.DataFrame({'GDP': lisst})\n",
    "footprint=footprints.join(gdpnum)\n",
    "footprint = footprint.dropna(axis=0)\n",
    "\n",
    "\n",
    "#Total Ecological Footprint can be from 0 to around 20, in hectares(10,000 square meters) per person\n",
    "# GDP per capita is around 50,000 for USA\n",
    "#HDI is from 0 to 1\n",
    "\n",
    "\n",
    "y= footprint['HDI']\n",
    "features = ['GDP','Total Ecological Footprint','Earths Required']\n",
    "X = footprint[features]\n",
    "X.describe()\n",
    "# split data into training and validation data\n",
    "train_X, val_X, train_y, val_y = train_test_split(X, y, random_state = 0)\n",
    "# Define model\n",
    "footprint_model = RandomForestRegressor()\n",
    "# Fit model\n",
    "footprint_model.fit(train_X, train_y)\n",
    "# get predicted prices on validation data\n",
    "val_predictions = footprint_model.predict(val_X)\n",
    "print(\"Mean error:\")\n",
    "print(mean_absolute_error(val_y, val_predictions))\n",
    "plt.scatter(y=val_y,x=val_predictions)\n",
    "plt.xlabel(\"Predictions\")\n",
    "plt.ylabel(\"Actual\")\n",
    "\n",
    "#plt.scatter(y=val_predictions,x=range(50))\n",
    "plt.show()\n",
    "print(footprint)"
   ]
  },
  {
   "cell_type": "code",
   "execution_count": 31,
   "metadata": {},
   "outputs": [
    {
     "data": {
      "image/png": "[encoded data removed]",
      "text/plain": [
       "<Figure size 432x288 with 1 Axes>"
      ]
     },
     "metadata": {
      "needs_background": "light"
     },
     "output_type": "display_data"
    }
   ],
   "source": []
  },
  {
   "cell_type": "code",
   "execution_count": 30,
   "metadata": {},
   "outputs": [
    {
     "name": "stdout",
     "output_type": "stream",
     "text": [
      "0.10926829268292684\n"
     ]
    }
   ],
   "source": []
  }
 ],
 "metadata": {
  "kernelspec": {
   "display_name": "Python 3",
   "language": "python",
   "name": "python3"
  },
  "language_info": {
   "codemirror_mode": {
    "name": "ipython",
    "version": 3
   },
   "file_extension": ".py",
   "mimetype": "text/x-python",
   "name": "python",
   "nbconvert_exporter": "python",
   "pygments_lexer": "ipython3",
   "version": "3.8.3"
  }
 },
 "nbformat": 4,
 "nbformat_minor": 4
}
